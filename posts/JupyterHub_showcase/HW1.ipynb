{
 "cells": [
  {
   "cell_type": "raw",
   "id": "4f5e12b5-355d-4e69-9dd5-52f7489d27ed",
   "metadata": {},
   "source": [
    "BEGIN ASSIGNMENT \n",
    "init_cell: false \n",
    "export_cell: true"
   ]
  },
  {
   "cell_type": "code",
   "execution_count": 12,
   "id": "ad5cc6e1-375c-4e5c-9e23-9fe517b505bb",
   "metadata": {
    "tags": []
   },
   "outputs": [
    {
     "name": "stdout",
     "output_type": "stream",
     "text": [
      "tibble [344 × 8] (S3: tbl_df/tbl/data.frame)\n",
      " $ species          : Factor w/ 3 levels \"Adelie\",\"Chinstrap\",..: 1 1 1 1 1 1 1 1 1 1 ...\n",
      " $ island           : Factor w/ 3 levels \"Biscoe\",\"Dream\",..: 3 3 3 3 3 3 3 3 3 3 ...\n",
      " $ bill_length_mm   : num [1:344] 39.1 39.5 40.3 NA 36.7 39.3 38.9 39.2 34.1 42 ...\n",
      " $ bill_depth_mm    : num [1:344] 18.7 17.4 18 NA 19.3 20.6 17.8 19.6 18.1 20.2 ...\n",
      " $ flipper_length_mm: int [1:344] 181 186 195 NA 193 190 181 195 193 190 ...\n",
      " $ body_mass_g      : int [1:344] 3750 3800 3250 NA 3450 3650 3625 4675 3475 4250 ...\n",
      " $ sex              : Factor w/ 2 levels \"female\",\"male\": 2 1 1 NA 1 2 1 2 NA NA ...\n",
      " $ year             : int [1:344] 2007 2007 2007 2007 2007 2007 2007 2007 2007 2007 ...\n"
     ]
    }
   ],
   "source": [
    "# code packages\n",
    "library(\"palmerpenguins\")\n",
    "library(\"tidyverse\")\n",
    "\n",
    "str(penguins)"
   ]
  },
  {
   "cell_type": "markdown",
   "id": "24279f6e-dbde-4495-930a-b37c975c5fcd",
   "metadata": {},
   "source": [
    "# HW1\n",
    "\n",
    "In this assignment, we will build a custom function to compute sample statistics.  Pay attention to the usage of the curly braces `{{...}}`, and we will use the functions on the `palmerpenguins` data set"
   ]
  },
  {
   "cell_type": "markdown",
   "id": "f8b34402-8664-4234-a289-1d6384f859fd",
   "metadata": {
    "tags": []
   },
   "source": [
    "1. Write a custom function called `summary_stats` that takes 3 inputs\n",
    "\n",
    "    * data_frame\n",
    "    * grouping_variable\n",
    "    * numerical_variable\n",
    "\n",
    "and outputs the `summarize` command on the following sample statistics: minimum, mean, median, standard deviation, and maximum.  Please follow the given stencil."
   ]
  },
  {
   "cell_type": "code",
   "execution_count": 13,
   "id": "ec87807f-516d-40fb-a61b-dbbb275e7864",
   "metadata": {
    "tags": []
   },
   "outputs": [],
   "source": [
    "# BEGIN SOLUTION NO PROMPT\n",
    "summary_stats <- function(data_frame, grouping_variable, numerical_variable){\n",
    "  data_frame |>\n",
    "    filter(!is.na({{grouping_variable}})) |>\n",
    "    group_by({{grouping_variable}}) |>\n",
    "    summarize(min = min({{numerical_variable}}, na.rm = TRUE),\n",
    "            xbar = mean({{numerical_variable}}, na.rm = TRUE),\n",
    "            med = median({{numerical_variable}}, na.rm = TRUE),\n",
    "            s = sd({{numerical_variable}}, na.rm = TRUE),\n",
    "            max = max({{numerical_variable}}, na.rm = TRUE))\n",
    "}\n",
    "# END SOLUTION\n",
    ". = \" # BEGIN PROMPT\n",
    "summary_stats <- function(data_frame, grouping_variable, numerical_variable){\n",
    "  data_frame |>\n",
    "    filter(!is.na({{grouping_variable}})) |>\n",
    "    group_by({{grouping_variable}}) |>\n",
    "    summarize(min = min({{numerical_variable}}, na.rm = TRUE),\n",
    "            xbar = _____,\n",
    "            med = _____,\n",
    "            s = _____,\n",
    "            max = _____)\n",
    "}\n",
    "\" # END PROMPT"
   ]
  },
  {
   "cell_type": "markdown",
   "id": "002278f0-728c-41a9-a7a6-7e49ebe97797",
   "metadata": {},
   "source": [
    "2. Use your `summary_stats` function with the `penguins` data frame, grouped by the `species` categorical variable, on the `bill_length_mm` numerical variable."
   ]
  },
  {
   "cell_type": "code",
   "execution_count": 14,
   "id": "30b160e5-3ef8-4e2e-b56b-ae356fa24a6f",
   "metadata": {},
   "outputs": [
    {
     "data": {
      "text/html": [
       "<table class=\"dataframe\">\n",
       "<caption>A tibble: 3 × 6</caption>\n",
       "<thead>\n",
       "\t<tr><th scope=col>species</th><th scope=col>min</th><th scope=col>xbar</th><th scope=col>med</th><th scope=col>s</th><th scope=col>max</th></tr>\n",
       "\t<tr><th scope=col>&lt;fct&gt;</th><th scope=col>&lt;dbl&gt;</th><th scope=col>&lt;dbl&gt;</th><th scope=col>&lt;dbl&gt;</th><th scope=col>&lt;dbl&gt;</th><th scope=col>&lt;dbl&gt;</th></tr>\n",
       "</thead>\n",
       "<tbody>\n",
       "\t<tr><td>Adelie   </td><td>32.1</td><td>38.79139</td><td>38.80</td><td>2.663405</td><td>46.0</td></tr>\n",
       "\t<tr><td>Chinstrap</td><td>40.9</td><td>48.83382</td><td>49.55</td><td>3.339256</td><td>58.0</td></tr>\n",
       "\t<tr><td>Gentoo   </td><td>40.9</td><td>47.50488</td><td>47.30</td><td>3.081857</td><td>59.6</td></tr>\n",
       "</tbody>\n",
       "</table>\n"
      ],
      "text/latex": [
       "A tibble: 3 × 6\n",
       "\\begin{tabular}{llllll}\n",
       " species & min & xbar & med & s & max\\\\\n",
       " <fct> & <dbl> & <dbl> & <dbl> & <dbl> & <dbl>\\\\\n",
       "\\hline\n",
       "\t Adelie    & 32.1 & 38.79139 & 38.80 & 2.663405 & 46.0\\\\\n",
       "\t Chinstrap & 40.9 & 48.83382 & 49.55 & 3.339256 & 58.0\\\\\n",
       "\t Gentoo    & 40.9 & 47.50488 & 47.30 & 3.081857 & 59.6\\\\\n",
       "\\end{tabular}\n"
      ],
      "text/markdown": [
       "\n",
       "A tibble: 3 × 6\n",
       "\n",
       "| species &lt;fct&gt; | min &lt;dbl&gt; | xbar &lt;dbl&gt; | med &lt;dbl&gt; | s &lt;dbl&gt; | max &lt;dbl&gt; |\n",
       "|---|---|---|---|---|---|\n",
       "| Adelie    | 32.1 | 38.79139 | 38.80 | 2.663405 | 46.0 |\n",
       "| Chinstrap | 40.9 | 48.83382 | 49.55 | 3.339256 | 58.0 |\n",
       "| Gentoo    | 40.9 | 47.50488 | 47.30 | 3.081857 | 59.6 |\n",
       "\n"
      ],
      "text/plain": [
       "  species   min  xbar     med   s        max \n",
       "1 Adelie    32.1 38.79139 38.80 2.663405 46.0\n",
       "2 Chinstrap 40.9 48.83382 49.55 3.339256 58.0\n",
       "3 Gentoo    40.9 47.50488 47.30 3.081857 59.6"
      ]
     },
     "metadata": {},
     "output_type": "display_data"
    }
   ],
   "source": [
    "# BEGIN SOLUTION NO PROMPT\n",
    "summary_stats(penguins, species, bill_length_mm)\n",
    "# END SOLUTION\n",
    ". = \" # BEGIN PROMPT\n",
    "summary_stats(penguins, _____, _____)\n",
    "\" # END PROMPT"
   ]
  },
  {
   "cell_type": "markdown",
   "id": "0f065ce2-ef4d-4fc4-96c4-a4bc63259cdb",
   "metadata": {},
   "source": [
    "3. Use your `summary_stats` function with the `penguins` data frame, grouped by the `island` categorical variable, on the `body_mass_g` numerical variable."
   ]
  },
  {
   "cell_type": "code",
   "execution_count": 15,
   "id": "d0fe73bd-f820-416d-8160-092f6f4dcdff",
   "metadata": {
    "tags": []
   },
   "outputs": [
    {
     "data": {
      "text/html": [
       "<table class=\"dataframe\">\n",
       "<caption>A tibble: 3 × 6</caption>\n",
       "<thead>\n",
       "\t<tr><th scope=col>island</th><th scope=col>min</th><th scope=col>xbar</th><th scope=col>med</th><th scope=col>s</th><th scope=col>max</th></tr>\n",
       "\t<tr><th scope=col>&lt;fct&gt;</th><th scope=col>&lt;int&gt;</th><th scope=col>&lt;dbl&gt;</th><th scope=col>&lt;dbl&gt;</th><th scope=col>&lt;dbl&gt;</th><th scope=col>&lt;int&gt;</th></tr>\n",
       "</thead>\n",
       "<tbody>\n",
       "\t<tr><td>Biscoe   </td><td>2850</td><td>4716.018</td><td>4775.0</td><td>782.8557</td><td>6300</td></tr>\n",
       "\t<tr><td>Dream    </td><td>2700</td><td>3712.903</td><td>3687.5</td><td>416.6441</td><td>4800</td></tr>\n",
       "\t<tr><td>Torgersen</td><td>2900</td><td>3706.373</td><td>3700.0</td><td>445.1079</td><td>4700</td></tr>\n",
       "</tbody>\n",
       "</table>\n"
      ],
      "text/latex": [
       "A tibble: 3 × 6\n",
       "\\begin{tabular}{llllll}\n",
       " island & min & xbar & med & s & max\\\\\n",
       " <fct> & <int> & <dbl> & <dbl> & <dbl> & <int>\\\\\n",
       "\\hline\n",
       "\t Biscoe    & 2850 & 4716.018 & 4775.0 & 782.8557 & 6300\\\\\n",
       "\t Dream     & 2700 & 3712.903 & 3687.5 & 416.6441 & 4800\\\\\n",
       "\t Torgersen & 2900 & 3706.373 & 3700.0 & 445.1079 & 4700\\\\\n",
       "\\end{tabular}\n"
      ],
      "text/markdown": [
       "\n",
       "A tibble: 3 × 6\n",
       "\n",
       "| island &lt;fct&gt; | min &lt;int&gt; | xbar &lt;dbl&gt; | med &lt;dbl&gt; | s &lt;dbl&gt; | max &lt;int&gt; |\n",
       "|---|---|---|---|---|---|\n",
       "| Biscoe    | 2850 | 4716.018 | 4775.0 | 782.8557 | 6300 |\n",
       "| Dream     | 2700 | 3712.903 | 3687.5 | 416.6441 | 4800 |\n",
       "| Torgersen | 2900 | 3706.373 | 3700.0 | 445.1079 | 4700 |\n",
       "\n"
      ],
      "text/plain": [
       "  island    min  xbar     med    s        max \n",
       "1 Biscoe    2850 4716.018 4775.0 782.8557 6300\n",
       "2 Dream     2700 3712.903 3687.5 416.6441 4800\n",
       "3 Torgersen 2900 3706.373 3700.0 445.1079 4700"
      ]
     },
     "metadata": {},
     "output_type": "display_data"
    }
   ],
   "source": [
    "# BEGIN SOLUTION NO PROMPT\n",
    "summary_stats(penguins, island, body_mass_g)\n",
    "# END SOLUTION\n",
    ". = \" # BEGIN PROMPT\n",
    "\n",
    "\" # END PROMPT"
   ]
  },
  {
   "cell_type": "code",
   "execution_count": 16,
   "id": "3e0dcb62-9cc3-48e9-875f-6a2de1f0b033",
   "metadata": {
    "tags": []
   },
   "outputs": [],
   "source": [
    "# If you want to check your code right now, uncomment the following line of code and run it\n",
    "# testthat::expect_equal(summary_stats(penguins, island, body_mass_g)$s[1], 782.8557, tol = 0.01)"
   ]
  },
  {
   "cell_type": "markdown",
   "id": "729b86f0-f1da-4116-af92-037ee760fb5d",
   "metadata": {},
   "source": [
    "# Submission\n",
    "\n",
    "Once you are done with the tasks above,\n",
    "\n",
    "* Go to \"File\"\n",
    "* Click \"Download as\"\n",
    "* Download as \"Notebook (.ipynb)\n",
    "\n",
    "That will download a copy of this notebook onto your computer (probably into your Downloads folder).  Please upload the .ipynb file back into our CatCourses site."
   ]
  }
 ],
 "metadata": {
  "kernelspec": {
   "display_name": "R",
   "language": "R",
   "name": "ir"
  },
  "language_info": {
   "codemirror_mode": "r",
   "file_extension": ".r",
   "mimetype": "text/x-r-source",
   "name": "R",
   "pygments_lexer": "r",
   "version": "4.2.2"
  }
 },
 "nbformat": 4,
 "nbformat_minor": 5
}
